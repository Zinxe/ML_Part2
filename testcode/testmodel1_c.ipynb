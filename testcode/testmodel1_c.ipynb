{
 "cells": [
  {
   "cell_type": "code",
   "execution_count": 3,
   "id": "0703f864-7722-4fc4-8d74-d29daec46fd5",
   "metadata": {},
   "outputs": [
    {
     "name": "stdout",
     "output_type": "stream",
     "text": [
      "临床特征模型评估\n",
      "平均 F1: 0.921  每折: [0.91719745 0.93589744 0.90196078 0.92207792 0.92903226]\n",
      "平均 AUC: 0.598  每折: [0.64       0.60933333 0.58592593 0.475      0.68040541]\n"
     ]
    }
   ],
   "source": [
    "import pandas as pd\n",
    "import numpy as np\n",
    "from sklearn.model_selection import StratifiedKFold, cross_val_score\n",
    "from sklearn.pipeline import make_pipeline\n",
    "from sklearn.compose import ColumnTransformer\n",
    "from sklearn.preprocessing import StandardScaler, OneHotEncoder\n",
    "from sklearn.impute import SimpleImputer\n",
    "from sklearn.ensemble import RandomForestClassifier\n",
    "\n",
    "# ==== 读取数据 ====\n",
    "clinical_df = pd.read_csv(\"../testdata/dataset1/clinical1.csv\")\n",
    "df = clinical_df[[\"PatientID\", \"deadstatus.event\"]].dropna()\n",
    "\n",
    "# ==== 合并临床特征 ====\n",
    "clinical_features = clinical_df.set_index(\"PatientID\").drop(columns=[\"Survival.time\", \"deadstatus.event\"])\n",
    "df = df.merge(clinical_features, left_on=\"PatientID\", right_index=True)\n",
    "\n",
    "# ==== 区分数值型和类别型特征 ====\n",
    "num_cols = X.select_dtypes(include=[\"number\"]).columns.tolist()\n",
    "cat_cols = X.select_dtypes(include=[\"object\", \"category\"]).columns.tolist()\n",
    "\n",
    "num_cols = [col for col in num_cols if col not in [\"deadstatus.event\"]]\n",
    "\n",
    "# ==== 构建特征工程管道 ====\n",
    "num_pipeline = make_pipeline(\n",
    "    SimpleImputer(strategy=\"median\"),\n",
    "    StandardScaler()\n",
    ")\n",
    "\n",
    "cat_pipeline = make_pipeline(\n",
    "    SimpleImputer(strategy=\"most_frequent\"),\n",
    "    OneHotEncoder(handle_unknown=\"ignore\")\n",
    ")\n",
    "\n",
    "preprocessor = ColumnTransformer([\n",
    "    (\"num\", num_pipeline, num_cols),\n",
    "    (\"cat\", cat_pipeline, cat_cols)\n",
    "])\n",
    "\n",
    "# ==== 构建最终模型流水线 ====\n",
    "model = make_pipeline(\n",
    "    preprocessor,\n",
    "    RandomForestClassifier(n_estimators=100, random_state=42)\n",
    ")\n",
    "\n",
    "# ==== 交叉验证评估 ====\n",
    "X = df.drop(columns=[\"PatientID\", \"deadstatus.event\"])\n",
    "y = df[\"deadstatus.event\"]\n",
    "\n",
    "skf = StratifiedKFold(n_splits=5, shuffle=True, random_state=42)\n",
    "\n",
    "f1_scores = cross_val_score(model, X, y, cv=skf, scoring=\"f1\")\n",
    "auc_scores = cross_val_score(model, X, y, cv=skf, scoring=\"roc_auc\")\n",
    "\n",
    "# ==== 输出结果 ====\n",
    "print(\"临床特征模型评估\")\n",
    "print(f\"平均 F1: {f1_scores.mean():.3f}  每折: {f1_scores}\")\n",
    "print(f\"平均 AUC: {auc_scores.mean():.3f}  每折: {auc_scores}\")\n"
   ]
  },
  {
   "cell_type": "code",
   "execution_count": null,
   "id": "6369c23f-2736-46e1-ba78-f8d813eff58a",
   "metadata": {},
   "outputs": [],
   "source": []
  }
 ],
 "metadata": {
  "kernelspec": {
   "display_name": "Python 3 (ipykernel)",
   "language": "python",
   "name": "python3"
  },
  "language_info": {
   "codemirror_mode": {
    "name": "ipython",
    "version": 3
   },
   "file_extension": ".py",
   "mimetype": "text/x-python",
   "name": "python",
   "nbconvert_exporter": "python",
   "pygments_lexer": "ipython3",
   "version": "3.12.2"
  }
 },
 "nbformat": 4,
 "nbformat_minor": 5
}
