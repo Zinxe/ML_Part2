{
 "cells": [
  {
   "cell_type": "code",
   "execution_count": 1,
   "id": "5ac2e328-d750-4925-b739-09e737c3c50d",
   "metadata": {},
   "outputs": [],
   "source": [
    "import pandas as pd\n",
    "\n",
    "# 读取临床信息\n",
    "clinical_df = pd.read_csv(\"../testdata/dataset2/clinical2.csv\")\n",
    "\n",
    "# 提取 Case ID 和 Survival Status，并转换标签\n",
    "label_df = clinical_df[[\"Case ID\", \"Survival Status\"]].copy()\n",
    "label_df.columns = [\"PatientID\", \"status\"]\n",
    "\n",
    "# 将 'alive' -> 0, 'dead' -> 1\n",
    "label_df[\"status\"] = label_df[\"status\"].map({\"alive\": 0, \"dead\": 1})\n",
    "\n",
    "# 设置索引为 Case ID（即 Patient ID）\n",
    "label_df = label_df.set_index(\"PatientID\")\n"
   ]
  },
  {
   "cell_type": "code",
   "execution_count": null,
   "id": "29b58055-a496-4413-b872-d557fbdc7123",
   "metadata": {},
   "outputs": [],
   "source": [
    "data = rnaseq_df.join(label_df[\"status\"])\n",
    "print(data.shape)\n",
    "data.head()"
   ]
  },
  {
   "cell_type": "code",
   "execution_count": 2,
   "id": "bf2fff10-8718-44be-bef5-6c2c41183126",
   "metadata": {},
   "outputs": [
    {
     "ename": "NameError",
     "evalue": "name 'rnaseq_df' is not defined",
     "output_type": "error",
     "traceback": [
      "\u001b[0;31m---------------------------------------------------------------------------\u001b[0m",
      "\u001b[0;31mNameError\u001b[0m                                 Traceback (most recent call last)",
      "Cell \u001b[0;32mIn[2], line 2\u001b[0m\n\u001b[1;32m      1\u001b[0m \u001b[38;5;66;03m# 假设你已经读取并预处理好了 rnaseq_df\u001b[39;00m\n\u001b[0;32m----> 2\u001b[0m rnaseq_df \u001b[38;5;241m=\u001b[39m \u001b[43mrnaseq_df\u001b[49m\u001b[38;5;241m.\u001b[39mloc[rnaseq_df\u001b[38;5;241m.\u001b[39mindex\u001b[38;5;241m.\u001b[39mintersection(label_df\u001b[38;5;241m.\u001b[39mindex)]\n\u001b[1;32m      3\u001b[0m data \u001b[38;5;241m=\u001b[39m rnaseq_df\u001b[38;5;241m.\u001b[39mjoin(label_df[\u001b[38;5;124m\"\u001b[39m\u001b[38;5;124mstatus\u001b[39m\u001b[38;5;124m\"\u001b[39m])\n",
      "\u001b[0;31mNameError\u001b[0m: name 'rnaseq_df' is not defined"
     ]
    }
   ],
   "source": [
    "# 假设你已经读取并预处理好了 rnaseq_df\n",
    "rnaseq_df = rnaseq_df.loc[rnaseq_df.index.intersection(label_df.index)]\n",
    "data = rnaseq_df.join(label_df[\"status\"])"
   ]
  },
  {
   "cell_type": "code",
   "execution_count": null,
   "id": "8c0888d5-e6f7-4b21-b5d8-66ddb88d9ef9",
   "metadata": {},
   "outputs": [],
   "source": []
  }
 ],
 "metadata": {
  "kernelspec": {
   "display_name": "Python 3 (ipykernel)",
   "language": "python",
   "name": "python3"
  },
  "language_info": {
   "codemirror_mode": {
    "name": "ipython",
    "version": 3
   },
   "file_extension": ".py",
   "mimetype": "text/x-python",
   "name": "python",
   "nbconvert_exporter": "python",
   "pygments_lexer": "ipython3",
   "version": "3.12.2"
  }
 },
 "nbformat": 4,
 "nbformat_minor": 5
}
