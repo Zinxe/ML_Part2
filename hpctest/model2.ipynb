{
 "cells": [
  {
   "cell_type": "code",
   "execution_count": 1,
   "id": "2ff44076-70a8-42f6-82d4-747af0f007af",
   "metadata": {
    "scrolled": true
   },
   "outputs": [
    {
     "name": "stderr",
     "output_type": "stream",
     "text": [
      "/home/zixi/miniconda3/lib/python3.12/site-packages/sklearn/metrics/_classification.py:1565: UndefinedMetricWarning: Precision is ill-defined and being set to 0.0 due to no predicted samples. Use `zero_division` parameter to control this behavior.\n",
      "  _warn_prf(average, modifier, f\"{metric.capitalize()} is\", len(result))\n"
     ]
    },
    {
     "name": "stdout",
     "output_type": "stream",
     "text": [
      "\n",
      "=== Image Only ===\n",
      "f1       : 0.250 ± 0.250\n",
      "roc_auc  : 0.500 ± 0.000\n",
      "precision: 0.167 ± 0.167\n",
      "recall   : 0.500 ± 0.500\n"
     ]
    },
    {
     "name": "stderr",
     "output_type": "stream",
     "text": [
      "/home/zixi/miniconda3/lib/python3.12/site-packages/sklearn/metrics/_classification.py:1565: UndefinedMetricWarning: Precision is ill-defined and being set to 0.0 due to no predicted samples. Use `zero_division` parameter to control this behavior.\n",
      "  _warn_prf(average, modifier, f\"{metric.capitalize()} is\", len(result))\n"
     ]
    },
    {
     "name": "stdout",
     "output_type": "stream",
     "text": [
      "\n",
      "=== RNA Only ===\n",
      "f1       : 0.250 ± 0.250\n",
      "roc_auc  : 0.500 ± 0.000\n",
      "precision: 0.167 ± 0.167\n",
      "recall   : 0.500 ± 0.500\n"
     ]
    },
    {
     "name": "stderr",
     "output_type": "stream",
     "text": [
      "/home/zixi/miniconda3/lib/python3.12/site-packages/sklearn/metrics/_classification.py:1565: UndefinedMetricWarning: Precision is ill-defined and being set to 0.0 due to no predicted samples. Use `zero_division` parameter to control this behavior.\n",
      "  _warn_prf(average, modifier, f\"{metric.capitalize()} is\", len(result))\n"
     ]
    },
    {
     "name": "stdout",
     "output_type": "stream",
     "text": [
      "\n",
      "=== Clinical Only ===\n",
      "f1       : 0.250 ± 0.250\n",
      "roc_auc  : 0.500 ± 0.000\n",
      "precision: 0.167 ± 0.167\n",
      "recall   : 0.500 ± 0.500\n",
      "\n",
      "=== Image + RNA + Clinical ===\n",
      "f1       : 0.250 ± 0.250\n",
      "roc_auc  : 0.500 ± 0.000\n",
      "precision: 0.167 ± 0.167\n",
      "recall   : 0.500 ± 0.500\n",
      "save as result2.csv\n"
     ]
    },
    {
     "name": "stderr",
     "output_type": "stream",
     "text": [
      "/home/zixi/miniconda3/lib/python3.12/site-packages/sklearn/metrics/_classification.py:1565: UndefinedMetricWarning: Precision is ill-defined and being set to 0.0 due to no predicted samples. Use `zero_division` parameter to control this behavior.\n",
      "  _warn_prf(average, modifier, f\"{metric.capitalize()} is\", len(result))\n"
     ]
    }
   ],
   "source": [
    "import os\n",
    "import pandas as pd\n",
    "import numpy as np\n",
    "\n",
    "from sklearn.compose         import ColumnTransformer\n",
    "from sklearn.pipeline        import Pipeline\n",
    "from sklearn.impute          import SimpleImputer\n",
    "from sklearn.preprocessing   import OneHotEncoder, StandardScaler\n",
    "from sklearn.ensemble        import RandomForestClassifier\n",
    "from sklearn.model_selection import StratifiedKFold, cross_validate\n",
    "\n",
    "DATA_DIR = \"/mnt/e/Block_2/Machine_Learning/ASS_Part2/Project/testdata\"\n",
    "\n",
    "# Read feature matrix\n",
    "df_img  = pd.read_csv(\"../result/features2.csv\",       index_col=\"patient_id\") \n",
    "df_rna  = pd.read_csv(\"../result/rnaseq_processed.csv\", index_col=0)\n",
    "df_clin = pd.read_csv(\"../result/clinical2_processed.csv\",\n",
    "                      index_col=\"Case ID\")\n",
    "\n",
    "# Take the intersection sample\n",
    "common = df_img.index.intersection(df_rna.index).intersection(df_clin.index)\n",
    "\n",
    "img_sub  = df_img.loc[common]\n",
    "rna_sub  = df_rna.loc[common]\n",
    "clin_sub = df_clin.loc[common]\n",
    "\n",
    "# 3. Label y（Dead=1, Alive=0）\n",
    "y = (clin_sub[\"Survival Status\"] == \"Dead\").astype(int).values\n",
    "\n",
    "# Clinical pretreatment: median/mode imputation + One-Hot\n",
    "clin_feats = clin_sub.drop(columns=\"Survival Status\")\n",
    "num_cols = clin_feats.select_dtypes(include=[\"int64\",\"float64\"]).columns.tolist()\n",
    "cat_cols = clin_feats.select_dtypes(include=[\"object\"]).columns.tolist()\n",
    "\n",
    "pre_clin = ColumnTransformer([\n",
    "    (\"num\", SimpleImputer(strategy=\"median\"), num_cols),\n",
    "    (\"cat\", Pipeline([\n",
    "        (\"imp\", SimpleImputer(strategy=\"most_frequent\")),\n",
    "        (\"ohe\", OneHotEncoder(handle_unknown=\"ignore\", sparse_output=False))\n",
    "    ]), cat_cols)\n",
    "], remainder=\"drop\")\n",
    "\n",
    "X_clin_ohe = pre_clin.fit_transform(clin_feats)  # shape = (N, n_clin_ohe)\n",
    "\n",
    "# numpy array turn to DataFrame\n",
    "feat_names = (\n",
    "    num_cols +\n",
    "    pre_clin.named_transformers_[\"cat\"]\n",
    "            .named_steps[\"ohe\"]\n",
    "            .get_feature_names_out(cat_cols)\n",
    "            .tolist()\n",
    ")\n",
    "df_clin_ohe = pd.DataFrame(\n",
    "    X_clin_ohe,\n",
    "    index=clin_feats.index,\n",
    "    columns=feat_names\n",
    ")\n",
    "\n",
    "# Standardization of imaging\n",
    "X_img_scaled = StandardScaler().fit_transform(img_sub.values)\n",
    "\n",
    "# A list of Top-10 clinical features was defined\n",
    "top10 = [\n",
    "    \"Days between CT and surgery\",\n",
    "    \"Age at Histological Diagnosis\",\n",
    "    \"Weight (lbs)\",\n",
    "    \"Pack Years\",\n",
    "    \"Quit Smoking Year\",\n",
    "    \"%GG_0%\",\n",
    "    \"Gender_Male\",\n",
    "    #\"Gender_Female\",\n",
    "    #\"Pathological T stage_T2b\",\n",
    "    #\"Pathological N stage_N2\"\n",
    "]\n",
    "\n",
    "# The matrix corresponding to Top-10 features is extracted\n",
    "# Joint set containing only Top-10 clinical + other modalities is constructed\n",
    "X_clin_top10   = df_clin_ohe[top10].values\n",
    "X_all_top10    = np.hstack([X_img_scaled, rna_sub.values, X_clin_top10])\n",
    "\n",
    "# Construct four feature sets\n",
    "X_img_only     = X_img_scaled\n",
    "X_rna_only     = rna_sub.values\n",
    "X_clin_only    = X_clin_ohe\n",
    "X_all_three    = np.hstack([X_img_scaled, rna_sub.values, X_clin_ohe])\n",
    "\n",
    "# 7. Model setting\n",
    "cv      = StratifiedKFold(n_splits=2, shuffle=True, random_state=42)\n",
    "clf     = RandomForestClassifier(n_estimators=100,\n",
    "                                 min_samples_leaf=3,\n",
    "                                 random_state=42,\n",
    "                                 n_jobs=-1)\n",
    "scoring = [\"f1\", \"roc_auc\", \"precision\", \"recall\"]\n",
    "results = []\n",
    "\n",
    "def eval_model(X, name):\n",
    "    scores = cross_validate(clf, X, y,\n",
    "                            cv=cv,\n",
    "                            scoring=scoring,\n",
    "                            return_train_score=False)\n",
    "    # mean and std\n",
    "    row = {\"model\": name}\n",
    "    for m in scoring:\n",
    "        arr = scores[f\"test_{m}\"]\n",
    "        row[f\"{m}_mean\"] = arr.mean()\n",
    "        row[f\"{m}_std\"]  = arr.std()\n",
    "    results.append(row)\n",
    "    \n",
    "    print(f\"\\n=== {name} ===\")\n",
    "    for m in scoring:\n",
    "        print(f\"{m:9s}: {row[f'{m}_mean']:.3f} ± {row[f'{m}_std']:.3f}\")\n",
    "\n",
    "# Evaluate in sequence\n",
    "eval_model(X_img_only,  \"Image Only\")\n",
    "eval_model(X_rna_only,  \"RNA Only\")\n",
    "eval_model(X_clin_top10, \"Clinical Only\")\n",
    "eval_model(X_all_top10, \"Image + RNA + Clinical\")\n",
    "\n",
    "# Save as CSV\n",
    "df_res = pd.DataFrame(results)\n",
    "os.makedirs(\"../result\", exist_ok=True)\n",
    "df_res.to_csv(\"../result/result2.csv\", index=False)\n",
    "print(f\"save as result2.csv\")"
   ]
  },
  {
   "cell_type": "code",
   "execution_count": null,
   "id": "2eab1330-ad61-43e3-989e-fab58a86442c",
   "metadata": {},
   "outputs": [],
   "source": []
  }
 ],
 "metadata": {
  "kernelspec": {
   "display_name": "Python 3 (ipykernel)",
   "language": "python",
   "name": "python3"
  },
  "language_info": {
   "codemirror_mode": {
    "name": "ipython",
    "version": 3
   },
   "file_extension": ".py",
   "mimetype": "text/x-python",
   "name": "python",
   "nbconvert_exporter": "python",
   "pygments_lexer": "ipython3",
   "version": "3.12.2"
  }
 },
 "nbformat": 4,
 "nbformat_minor": 5
}
